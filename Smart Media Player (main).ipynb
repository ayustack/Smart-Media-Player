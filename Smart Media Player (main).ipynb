{
 "cells": [
  {
   "cell_type": "code",
   "execution_count": 1,
   "id": "462d4c5c",
   "metadata": {},
   "outputs": [],
   "source": [
    "def facedetect():\n",
    "    import cv2\n",
    "    import sys\n",
    "    import logging as log\n",
    "    import datetime as dt\n",
    "    from time import sleep\n",
    "\n",
    "    cascPath = \"haarcascade_frontalface_default.xml\"\n",
    "    faceCascade = cv2.CascadeClassifier(cascPath)\n",
    "    log.basicConfig(filename='webcam.log',level=log.INFO)\n",
    "\n",
    "    video_capture = cv2.VideoCapture(0)\n",
    "    anterior = 0\n",
    "\n",
    "    while True:\n",
    "        if not video_capture.isOpened():\n",
    "            print('Unable to load camera.')\n",
    "            sleep(5)\n",
    "            pass\n",
    "\n",
    "        #Capture frame-by-frame\n",
    "        ret, frame = video_capture.read()\n",
    "\n",
    "        gray = cv2.cvtColor(frame, cv2.COLOR_BGR2GRAY)\n",
    "\n",
    "        faces = faceCascade.detectMultiScale(\n",
    "            gray,\n",
    "            scaleFactor=1.1,\n",
    "            minNeighbors=5,\n",
    "            minSize=(30, 30)\n",
    "        )\n",
    "\n",
    "        if anterior != len(faces):\n",
    "            anterior = len(faces)\n",
    "            log.info(\"faces: \"+str(len(faces))+\" at \"+str(dt.datetime.now()))\n",
    "            \n",
    "        return len(faces) #returning length of the list 'faces' which constitutes number of face detected\n",
    "\n",
    "    #When everything is done, release the capture\n",
    "    video_capture.release()\n",
    "    cv2.destroyAllWindows()"
   ]
  },
  {
   "cell_type": "code",
   "execution_count": 3,
   "id": "70389aac",
   "metadata": {
    "scrolled": true
   },
   "outputs": [],
   "source": [
    "import vlc\n",
    "import keyboard\n",
    "face = facedetect()\n",
    "my_Media = vlc.MediaPlayer(\"C:\\\\Users\\\\HP\\\\Downloads\\\\Venom Let There Be Carnage (2021) [720p] [WEBRip] [YTS.MX]\\\\Venom.Let.There.Be.Carnage.2021.720p.WEBRip.x264.AAC-[YTS.MX].mp4\")\n",
    "if(face==0):\n",
    "    print(\"No Face Detected.\")\n",
    "else:\n",
    "    my_Media.play()\n",
    "x = 0\n",
    "flag = my_Media.is_playing()\n",
    "while(flag==0 or flag):\n",
    "    face = facedetect()\n",
    "    flag = my_Media.is_playing()\n",
    "    if keyboard.is_pressed('q'):  #if key 'q' is pressed to quit the player\n",
    "        break\n",
    "    elif(x==5): #maximum wait limit after the face is not detected\n",
    "        break\n",
    "    elif(face and flag==0): #case in which face is detected but the player state is paused\n",
    "        my_Media.play()\n",
    "        x = 0\n",
    "    elif(face==0 and flag): #case in which no face is detected but the player state is play\n",
    "        my_Media.pause()\n",
    "    elif(face==0 and flag==0): #case in which no face is detected and player state is pause then we just increment the waiting variable\n",
    "        x+=1\n",
    "        print(\"Face Not detected:\",x)\n",
    "my_Media.stop()"
   ]
  }
 ],
 "metadata": {
  "kernelspec": {
   "display_name": "Python 3 (ipykernel)",
   "language": "python",
   "name": "python3"
  },
  "language_info": {
   "codemirror_mode": {
    "name": "ipython",
    "version": 3
   },
   "file_extension": ".py",
   "mimetype": "text/x-python",
   "name": "python",
   "nbconvert_exporter": "python",
   "pygments_lexer": "ipython3",
   "version": "3.9.7"
  }
 },
 "nbformat": 4,
 "nbformat_minor": 5
}
